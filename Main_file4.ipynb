{
 "cells": [
  {
   "cell_type": "code",
   "execution_count": 2,
   "metadata": {
    "scrolled": true
   },
   "outputs": [],
   "source": [
    "import pandas as pd\n",
    "import numpy as np\n",
    "import pickle\n",
    "import csv\n",
    "\n",
    "from progressbar import ProgressBar\n",
    "import time"
   ]
  },
  {
   "cell_type": "code",
   "execution_count": 1,
   "metadata": {
    "scrolled": true
   },
   "outputs": [],
   "source": [
    "#import artm"
   ]
  },
  {
   "cell_type": "code",
   "execution_count": 4,
   "metadata": {},
   "outputs": [
    {
     "name": "stderr",
     "output_type": "stream",
     "text": [
      "/anaconda3/lib/python3.6/site-packages/IPython/core/interactiveshell.py:2728: DtypeWarning: Columns (12) have mixed types. Specify dtype option on import or set low_memory=False.\n",
      "  interactivity=interactivity, compiler=compiler, result=result)\n"
     ]
    }
   ],
   "source": [
    "#Обрабатываем данные из data1\n",
    "data1 = pd.read_csv(\"dialogs_1.csv\", sep = \",\")"
   ]
  },
  {
   "cell_type": "code",
   "execution_count": 2,
   "metadata": {},
   "outputs": [],
   "source": [
    "# %matplotlib inline\n",
    "# data1.value_counts().plot(kind='bar')"
   ]
  },
  {
   "cell_type": "code",
   "execution_count": 88,
   "metadata": {},
   "outputs": [],
   "source": [
    "#Первичная предобработка\n",
    "#NaN = -1\n",
    "not_columns = ['ID', 'Дата.изменения.статуса', 'Подписчики', 'Контент']\n",
    "#Заменяем NaN на -1 для удобства\n",
    "for column in data1.columns:\n",
    "    if column not in not_columns:\n",
    "        data1[str(column)] = data1[str(column)].apply(str)\n",
    "data1 = data1.fillna({'ID': -1, 'Подписчики': -1})\n",
    "data1['ID'] = data1['ID'].apply(int)\n",
    "data1['Подписчики'] = data1['Подписчики'].apply(int)\n",
    "data1['Контент'] = data1['Контент'].apply(str)\n",
    "data1 = data1.drop('Тип.обращения', axis=1)\n",
    "data1 = data1.drop('Дата.изменения.статуса', axis=1)\n",
    "#Отсортировали по ID\n",
    "data1 = data1.sort_values(by='ID', ascending=0)\n",
    "#Пренебрегаем комментариями, не являющимися цельной перепиской\n",
    "data1 = data1[data1['ID'] != -1].reset_index(drop=True)\n",
    "data1 = data1.reset_index(drop=True)"
   ]
  },
  {
   "cell_type": "code",
   "execution_count": 95,
   "metadata": {},
   "outputs": [],
   "source": [
    "# для данных тех. поддержки следует только поставить if data1['Тип'][row] == '1-ответ'\n",
    "def prepare_data1(data1):\n",
    "    \n",
    "    ##Создаем датафрейм пользовательских текстовых диалогов для data1\n",
    "    #Выделяем тексты пользовательских обращений для последующей кластеризации\n",
    "    \n",
    "    #Запоминаем номер первого инцидента\n",
    "    start = data1['ID'][0]\n",
    "    data1_clienttexts = pd.DataFrame(columns=['ID', 'Автор', 'Категория.автора', 'Контент', 'Хост','Подписчики', 'Тема', 'Локация', 'Тональность'])\n",
    "    data1_clienttexts['Контент']= ['' for _ in range(len(data1))]\n",
    "    data1_clienttexts = data1_clienttexts.fillna('')\n",
    "    #index - номер строки нового датафрейма\n",
    "    index=0\n",
    "    #first - первый ли текст в конкретной переписке\n",
    "    first = True\n",
    "    for row in range(len(data1)):\n",
    "        #Проверка на -1 тут бесполезна, удалили ранее комментарии\n",
    "        if data1['ID'][row] != -1:\n",
    "            #если встретили инцидент впервые\n",
    "            if data1['ID'][row] == start:\n",
    "                if data1['Тип'][row] != '1-ответ':\n",
    "                    data1_clienttexts.iloc[index]['Контент'] += ' ' + data1.iloc[row]['Контент']\n",
    "        \n",
    "            else:\n",
    "                #Новый инцидент\n",
    "                start = data1['ID'][row]\n",
    "                if data1['Тип'][row] != '1-ответ':\n",
    "                    first = True\n",
    "                    index += 1\n",
    "                    data1_clienttexts.iloc[index]['Контент'] += ' ' + data1.iloc[row]['Контент']\n",
    "        \n",
    "            if first:\n",
    "                #Записываем все остальные поля, кроме текста\n",
    "                if data1['Тип'][row] != '1-ответ':\n",
    "                    first = False\n",
    "                    data1_clienttexts.iloc[index]['ID'] = data1.iloc[row]['ID']\n",
    "                    data1_clienttexts.iloc[index]['Автор'] = data1.iloc[row]['Автор']\n",
    "                    data1_clienttexts.iloc[index]['Категория.автора'] = data1.iloc[row]['Категория.автора']\n",
    "                    data1_clienttexts.iloc[index]['Хост'] = data1.iloc[row]['Хост']\n",
    "                    data1_clienttexts.iloc[index]['Подписчики'] = data1.iloc[row]['Подписчики']\n",
    "                    data1_clienttexts.iloc[index]['Тема'] = data1.iloc[row]['Тема']\n",
    "                    data1_clienttexts.iloc[index]['Локация'] = data1.iloc[row]['Локация']\n",
    "                    try:\n",
    "                        data1_clienttexts.iloc[index]['Тональность'] = data1[data1['ID'] == data1.iloc[row]['ID']]['Тональность'].unique()[1]\n",
    "                    except IndexError:\n",
    "                        data1_clienttexts.iloc[index]['Тональность'] = data1[data1['ID'] == data1.iloc[row]['ID']]['Тональность'].unique()[0]\n",
    "        pbar.update(row)\n",
    "        \n",
    "    data1_clienttexts['Контент'].replace('', np.nan, inplace=True)\n",
    "    data1_clienttexts = data1_clienttexts.dropna() \n",
    "    \n",
    "    \n",
    "    return data1_clienttexts"
   ]
  },
  {
   "cell_type": "code",
   "execution_count": 96,
   "metadata": {},
   "outputs": [
    {
     "name": "stderr",
     "output_type": "stream",
     "text": [
      "100% |########################################################################|\n"
     ]
    }
   ],
   "source": [
    "pbar = ProgressBar(maxval=len(data1))\n",
    "pbar.start()\n",
    "data1_clienttexts = prepare_data1(data1)\n",
    "pbar.finish()"
   ]
  },
  {
   "cell_type": "code",
   "execution_count": 3,
   "metadata": {},
   "outputs": [],
   "source": [
    "#data1_clienttexts['Подписчики'].value_counts()"
   ]
  },
  {
   "cell_type": "code",
   "execution_count": 97,
   "metadata": {},
   "outputs": [],
   "source": [
    "data1_clienttexts.to_pickle('data1_clienttexts.pickle')"
   ]
  },
  {
   "cell_type": "code",
   "execution_count": 5,
   "metadata": {},
   "outputs": [],
   "source": [
    "#len(data1_clienttexts)"
   ]
  },
  {
   "cell_type": "code",
   "execution_count": 4,
   "metadata": {},
   "outputs": [],
   "source": [
    "#data1_clienttexts"
   ]
  },
  {
   "cell_type": "code",
   "execution_count": null,
   "metadata": {},
   "outputs": [],
   "source": []
  }
 ],
 "metadata": {
  "kernelspec": {
   "display_name": "Python 3",
   "language": "python",
   "name": "python3"
  },
  "language_info": {
   "codemirror_mode": {
    "name": "ipython",
    "version": 3
   },
   "file_extension": ".py",
   "mimetype": "text/x-python",
   "name": "python",
   "nbconvert_exporter": "python",
   "pygments_lexer": "ipython3",
   "version": "3.6.5"
  }
 },
 "nbformat": 4,
 "nbformat_minor": 2
}

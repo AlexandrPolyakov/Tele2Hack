{
 "cells": [
  {
   "cell_type": "markdown",
   "metadata": {},
   "source": [
    "#### Файлы 1 и 2 идентичны\n",
    "Созданы для ускорения обработки\n",
    "##### 1 - выделение клиентских данных из data2\n",
    "##### 2 - выделение данных тех. поддержки из data2"
   ]
  },
  {
   "cell_type": "markdown",
   "metadata": {},
   "source": [
    "# Иерархия файлов\n",
    "### Main_file1 - выделение клиентских данных из data2\n",
    "### Main_file2 - выделение данных тех. поддержки из data2\n",
    "### Main_file3 - выделение данных из data почты\n",
    "### Main_file4 -  выделение данных из data1\n",
    "### Main_file5 - Объединение всех данных\n",
    "### Main_file6 - Лемматизация, токенизация, gensim модели тематического моделирования\n",
    "### Main_file7 - Построение отображения двойной кластеризации, примеры идей и моделей\n",
    "### Остальные файлы - примеры гипотетической работы на сервере pythoneverywhere на flask\n",
    "### Описание.pdf - краткое описание реализации"
   ]
  },
  {
   "cell_type": "code",
   "execution_count": 1,
   "metadata": {},
   "outputs": [
    {
     "data": {
      "text/plain": [
       "True"
      ]
     },
     "execution_count": 1,
     "metadata": {},
     "output_type": "execute_result"
    }
   ],
   "source": [
    "#Импорт базовых файлов и библиотек\n",
    "import pandas as pd\n",
    "import numpy as np\n",
    "import re\n",
    "\n",
    "#Лемматизация\n",
    "from pymystem3 import Mystem\n",
    "m = Mystem()\n",
    "\n",
    "#Исправление опечаток\n",
    "#Загружаем стандартную обученную модель\n",
    "import jamspell\n",
    "corrector = jamspell.TSpellCorrector()\n",
    "corrector.LoadLangModel('/Users/alexanpolyakov/Downloads/ru_small.bin')"
   ]
  },
  {
   "cell_type": "code",
   "execution_count": 2,
   "metadata": {},
   "outputs": [],
   "source": [
    "#Загружаем данные data2\n",
    "data2 = pd.read_csv(\"dialogs_2.csv\", sep=',')"
   ]
  },
  {
   "cell_type": "code",
   "execution_count": 208,
   "metadata": {},
   "outputs": [],
   "source": [
    "#Заменяем NaN на -1 для удобства\n",
    "data2 = data2.fillna({'client_id': -1, 'user_id': -1})\n",
    "#Приводим столбцы к единым типам и удаляем пустые строки в тексте\n",
    "data2['client_id'] = data2['client_id'].apply(int)\n",
    "data2['user_id'] = data2['user_id'].apply(int)\n",
    "data2 = data2.dropna(subset=['text']).reset_index(drop=True)\n",
    "data2['text'] = data2['text'].apply(str)\n",
    "#Оставляем только переписку без системных сообщений\n",
    "data2 = data2[data2.msg_type == 0]\n",
    "#Индекс с 0\n",
    "data2 = data2.reset_index(drop=True)\n",
    "#На данном этапе столбец типа сообщений нам больше не нужен\n",
    "data2 = data2.drop('msg_type', axis=1)\n",
    "#В дальнейшем столбец поддержки понадобится для выявления плохих консультантов, достанем его по номеру инцидента\n",
    "data2 = data2.drop('user_id', axis=1)\n",
    "data2 = data2.reset_index(drop=True)\n",
    "#Сортируем данные по номеру инцидента, так как они идут в неправильной последовательности, мы же хотим объединить тексты\n",
    "data2 = data2.sort_values(by='appeal_id', ascending=0)\n",
    "data2 = data2.reset_index(drop=True)"
   ]
  },
  {
   "cell_type": "code",
   "execution_count": 230,
   "metadata": {},
   "outputs": [],
   "source": [
    "from progressbar import ProgressBar\n",
    "import time\n",
    "#Выделяем тексты пользовательских обращений для последующей кластеризации\n",
    "#k = 1 - клиенты\n",
    "#k = -1 - тех. поддержка\n",
    "def prepare_data2(data2, k):\n",
    "    \n",
    "    #Запоминаем номер первого инцидента\n",
    "    start = data2.appeal_id[0]\n",
    "    #Датафрейм пользовательских обращений\n",
    "    data2_clienttexts = pd.DataFrame(columns=['appeal_id', 'client_id', 'channel_id', 'channel_name','channel_type', 'text'])\n",
    "    data2_clienttexts.text= ['' for _ in range(len(data2))]\n",
    "    data2_clienttexts = data2_clienttexts.fillna('')\n",
    "    #index - номер строки нового датафрейма\n",
    "    index=0\n",
    "    #first - первый ли текст в конкретной переписке\n",
    "    first = True\n",
    "    for row in range(len(data2)):\n",
    "        #если встретили инцидент впервые\n",
    "        if data2.appeal_id[row] == start:\n",
    "            if data2.client_id[row] == k:\n",
    "                data2_clienttexts.iloc[index].text += ' ' + data2.iloc[row].text\n",
    "        else:\n",
    "            #Новый инцидент\n",
    "            start = data2.appeal_id[row]\n",
    "            if data2.client_id[row] == k:\n",
    "                first = True\n",
    "                index += 1\n",
    "                data2_clienttexts.iloc[index].text += ' ' + data2.iloc[row].text\n",
    "        \n",
    "        if first:\n",
    "            if data2.client_id[row] == k:\n",
    "                #Записываем все остальные поля, кроме текста\n",
    "                first = False\n",
    "                data2_clienttexts.iloc[index].appeal_id = data2.iloc[row].appeal_id\n",
    "                data2_clienttexts.iloc[index].client_id = data2.iloc[row].client_id\n",
    "                data2_clienttexts.iloc[index].channel_id = data2.iloc[row].channel_id\n",
    "                data2_clienttexts.iloc[index].channel_name = data2.iloc[row].channel_name\n",
    "                data2_clienttexts.iloc[index].channel_type = data2.iloc[row].channel_type\n",
    "        pbar.update(row)\n",
    "        \n",
    "        \n",
    "    data2_clienttexts['text'].replace('', np.nan, inplace=True)\n",
    "    data2_clienttexts = data2_clienttexts.dropna()\n",
    "    return data2_clienttexts"
   ]
  },
  {
   "cell_type": "code",
   "execution_count": 231,
   "metadata": {},
   "outputs": [
    {
     "name": "stderr",
     "output_type": "stream",
     "text": [
      "100% (2758169 of 2758169) |##############| Elapsed Time: 0:12:26 Time:  0:12:26\n"
     ]
    }
   ],
   "source": [
    "#Применили к data2, (В котором telegram и прочее)\n",
    "#k = 1 - клиенты\n",
    "#k = -1 - тех. поддержка\n",
    "pbar = ProgressBar(maxval=len(data2))\n",
    "pbar.start()\n",
    "data2_clienttexts = prepare_data2(data2, 1)\n",
    "pbar.finish()"
   ]
  },
  {
   "cell_type": "code",
   "execution_count": 232,
   "metadata": {},
   "outputs": [],
   "source": [
    "#Записываем клиентские данные и переходим в следующий notebook\n",
    "#Для ускорения работы, параллельно в файле 2 обработали также данные тех.поддержки\n",
    "data2_clienttexts.to_pickle('data2_clienttexts.pickle')"
   ]
  },
  {
   "cell_type": "code",
   "execution_count": 1,
   "metadata": {},
   "outputs": [],
   "source": [
    "#предпредобработка :)\n",
    "#Собранные клиентские данные с data2\n",
    "#data2_clienttexts"
   ]
  },
  {
   "cell_type": "code",
   "execution_count": 2,
   "metadata": {},
   "outputs": [],
   "source": [
    "#data2_clienttexts[data2_clienttexts.client_id != -1]"
   ]
  },
  {
   "cell_type": "code",
   "execution_count": null,
   "metadata": {},
   "outputs": [],
   "source": []
  }
 ],
 "metadata": {
  "kernelspec": {
   "display_name": "Python 3",
   "language": "python",
   "name": "python3"
  },
  "language_info": {
   "codemirror_mode": {
    "name": "ipython",
    "version": 3
   },
   "file_extension": ".py",
   "mimetype": "text/x-python",
   "name": "python",
   "nbconvert_exporter": "python",
   "pygments_lexer": "ipython3",
   "version": "3.6.5"
  }
 },
 "nbformat": 4,
 "nbformat_minor": 2
}

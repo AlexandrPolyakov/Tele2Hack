{
 "cells": [
  {
   "cell_type": "code",
   "execution_count": 1,
   "metadata": {},
   "outputs": [
    {
     "name": "stderr",
     "output_type": "stream",
     "text": [
      "/anaconda3/lib/python3.6/importlib/_bootstrap.py:219: RuntimeWarning: numpy.dtype size changed, may indicate binary incompatibility. Expected 96, got 88\n",
      "  return f(*args, **kwds)\n",
      "/anaconda3/lib/python3.6/importlib/_bootstrap.py:219: RuntimeWarning: numpy.dtype size changed, may indicate binary incompatibility. Expected 96, got 88\n",
      "  return f(*args, **kwds)\n"
     ]
    }
   ],
   "source": [
    "import pandas as pd"
   ]
  },
  {
   "cell_type": "code",
   "execution_count": 3,
   "metadata": {},
   "outputs": [],
   "source": [
    "#Импортируем тексты после лемматизации\n",
    "data_clienttexts = pd.read_pickle('data_clienttexts_lem.pickle')\n",
    "data_techtexts = pd.read_pickle('data_techtexts_lem.pickle')"
   ]
  },
  {
   "cell_type": "code",
   "execution_count": 96,
   "metadata": {},
   "outputs": [],
   "source": [
    "#Импортируем тексты до лемматизации для выбора стандартных ответов суфлеру, выбор по вероятности, числу слов и тд,\n",
    "#Нужно прописывать на сервер\n",
    "data_clienttexts_full= pd.read_pickle('data_clienttexts.pickle')\n",
    "data_techtexts_full = pd.read_pickle('data_textstexts.pickle')"
   ]
  },
  {
   "cell_type": "code",
   "execution_count": 101,
   "metadata": {},
   "outputs": [],
   "source": [
    "#Переименовываем заголовок текста из необработанного файла, соединяем его с обработанным файлом и ищем лучшие стандартные ответы\n",
    "data_techtexts_full = data_techtexts_full.rename(columns={'text':'full_text'})\n",
    "data_clienttexts_full = data_clienttexts_full.rename(columns={'text':'full_text'})\n",
    "data_techtexts['full_text'] = data_techtexts_full['full_text']\n",
    "data_clienttexts['full_text'] = data_clienttexts_full['full_text']"
   ]
  },
  {
   "cell_type": "code",
   "execution_count": 1,
   "metadata": {
    "scrolled": false
   },
   "outputs": [],
   "source": [
    "#test"
   ]
  },
  {
   "cell_type": "code",
   "execution_count": 24,
   "metadata": {},
   "outputs": [],
   "source": [
    "#Модели LDA\n",
    "import pickle\n",
    "input = open('lda_MC_clients.pickle', 'rb')\n",
    "lda_MC_clients = pickle.load(input)\n",
    "input.close()\n",
    "\n",
    "input = open('lda_MC_tech.pickle', 'rb')\n",
    "lda_MC_tech = pickle.load(input)\n",
    "input.close()"
   ]
  },
  {
   "cell_type": "code",
   "execution_count": 25,
   "metadata": {},
   "outputs": [],
   "source": [
    "#Тексты, словари, корпусы\n",
    "input = open('texts_clients.pickle', 'rb')\n",
    "texts_clients = pickle.load(input)\n",
    "input.close()\n",
    "\n",
    "input = open('dictionary_clients.pickle', 'rb')\n",
    "dictionary_clients = pickle.load(input)\n",
    "input.close()\n",
    "\n",
    "input = open('corpus_clients.pickle', 'rb')\n",
    "corpus_clients = pickle.load(input)\n",
    "input.close()\n",
    "\n",
    "input = open('texts_tech.pickle', 'rb')\n",
    "texts_tech = pickle.load(input)\n",
    "input.close()\n",
    "\n",
    "input = open('dictionary_tech.pickle', 'rb')\n",
    "dictionary_tech = pickle.load(input)\n",
    "input.close()\n",
    "\n",
    "input = open('corpus_tech.pickle', 'rb')\n",
    "corpus_tech = pickle.load(input)\n",
    "input.close()"
   ]
  },
  {
   "cell_type": "code",
   "execution_count": 11,
   "metadata": {},
   "outputs": [],
   "source": [
    "#Проставляем номера кластеров, имеющих наибольшую вероятность\n",
    "from operator import itemgetter\n",
    "data_clienttexts = data_clienttexts.assign(cluster_clients = [sorted(lda_MC_clients[corpus_clients[row]], key = itemgetter(1), reverse=True)[0][0] for row in range(len(data_clienttexts))])"
   ]
  },
  {
   "cell_type": "code",
   "execution_count": 21,
   "metadata": {},
   "outputs": [],
   "source": [
    "#Проставляем наибольшие вероятности выбранных кластеров\n",
    "from operator import itemgetter\n",
    "data_clienttexts = data_clienttexts.assign(cluster_clients_prob = [sorted(lda_MC_clients[corpus_clients[row]], key = itemgetter(1), reverse=True)[0][1] for row in range(len(data_clienttexts))])"
   ]
  },
  {
   "cell_type": "code",
   "execution_count": 23,
   "metadata": {},
   "outputs": [],
   "source": [
    "data_clienttexts.to_pickle('data_clienttexts_clusters.pickle')"
   ]
  },
  {
   "cell_type": "code",
   "execution_count": 92,
   "metadata": {},
   "outputs": [],
   "source": [
    "#Проставляем номера кластеров, имеющих наибольшую вероятность\n",
    "data_techtexts = data_techtexts.assign(cluster_tech\n",
    "                                       = [sorted(lda_MC_tech[corpus_tech[row]], key = itemgetter(1),\n",
    "                                                 reverse=True)[0][0] for row in range(len(data_techtexts))])\n",
    "#Проставляем наибольшие вероятности выбранных кластеров\n",
    "data_techtexts = data_techtexts.assign(cluster_tech_prob\n",
    "                                       = [sorted(lda_MC_tech[corpus_tech[row]], key = itemgetter(1),\n",
    "                                                 reverse=True)[0][1] for row in range(len(data_techtexts))])"
   ]
  },
  {
   "cell_type": "code",
   "execution_count": 93,
   "metadata": {},
   "outputs": [],
   "source": [
    "data_techtexts.to_pickle('data_techtexts_clusters.pickle')"
   ]
  },
  {
   "cell_type": "code",
   "execution_count": 2,
   "metadata": {},
   "outputs": [],
   "source": [
    "#Топ-слова модели клиентских текстов\n",
    "# for topic, top_words in lda_MC_clients.print_topics(num_topics=5, num_words=5):\n",
    "#     print('Topic', topic, ':', top_words)\n",
    "#     print('')"
   ]
  },
  {
   "cell_type": "code",
   "execution_count": 3,
   "metadata": {},
   "outputs": [],
   "source": [
    "#Топ-слова модели текстов тех. поддержки\n",
    "# for topic, top_words in lda_MC_tech.print_topics(num_topics=5, num_words=5):\n",
    "#     print('Topic', topic, ':', top_words)\n",
    "#     print('')"
   ]
  },
  {
   "cell_type": "code",
   "execution_count": 207,
   "metadata": {},
   "outputs": [],
   "source": [
    "#Остается грамотным образом построить соответствие(оно неоднозначно) для двойной кластеризации\n",
    "num_topics = 25\n",
    "topic_words_clients = []\n",
    "for i in range(num_topics):\n",
    "    tt = lda_MC_clients.get_topic_terms(i,10)\n",
    "    topic_words_clients.append([dictionary_clients[pair[0]] for pair in tt])"
   ]
  },
  {
   "cell_type": "code",
   "execution_count": 209,
   "metadata": {},
   "outputs": [],
   "source": [
    "num_topics = 25\n",
    "topic_words_tech = []\n",
    "for i in range(num_topics):\n",
    "    tt = lda_MC_tech.get_topic_terms(i,10)\n",
    "    topic_words_tech.append([dictionary_tech[pair[0]] for pair in tt])"
   ]
  },
  {
   "cell_type": "code",
   "execution_count": 212,
   "metadata": {},
   "outputs": [],
   "source": [
    "for i in range(len(topic_words_clients)):\n",
    "    topic_words_clients[i] = ' '.join(topic_words_clients[i])"
   ]
  },
  {
   "cell_type": "code",
   "execution_count": 214,
   "metadata": {},
   "outputs": [],
   "source": [
    "for i in range(len(topic_words_tech)):\n",
    "    topic_words_tech[i] = ' '.join(topic_words_tech[i])"
   ]
  },
  {
   "cell_type": "code",
   "execution_count": 230,
   "metadata": {},
   "outputs": [],
   "source": [
    "topic_words_clients_map = [topic_words_clients[i].split(' ') for i in range(len(topic_words_clients))]\n",
    "corpus_clients_map = [dictionary_tech.doc2bow(text) for text in topic_words_clients_map]"
   ]
  },
  {
   "cell_type": "code",
   "execution_count": 231,
   "metadata": {},
   "outputs": [],
   "source": [
    "topic_words_tech_map = [topic_words_tech[i].split(' ') for i in range(len(topic_words_tech))]\n",
    "corpus_tech_map = [dictionary_clients.doc2bow(text) for text in topic_words_tech_map]"
   ]
  },
  {
   "cell_type": "code",
   "execution_count": 271,
   "metadata": {},
   "outputs": [],
   "source": [
    "#Получаем такое соответствие"
   ]
  },
  {
   "cell_type": "code",
   "execution_count": 4,
   "metadata": {},
   "outputs": [],
   "source": [
    "#list(lda_MC_clients.get_document_topics(corpus_tech_map, minimum_probability=0.2))"
   ]
  },
  {
   "cell_type": "code",
   "execution_count": 5,
   "metadata": {},
   "outputs": [],
   "source": [
    "#list(lda_MC_tech.get_document_topics(corpus_clients_map, minimum_probability=0.2))"
   ]
  },
  {
   "cell_type": "markdown",
   "metadata": {},
   "source": [
    "# Наглядное отображение двух кластеризаций"
   ]
  },
  {
   "cell_type": "code",
   "execution_count": 6,
   "metadata": {},
   "outputs": [],
   "source": [
    "# for i in range(num_topics):\n",
    "#     print(i, ' ->', list(lda_MC_clients.get_document_topics(corpus_tech_map, minimum_probability=0.1))[i])"
   ]
  },
  {
   "cell_type": "code",
   "execution_count": 7,
   "metadata": {},
   "outputs": [],
   "source": [
    "# for i in range(num_topics):\n",
    "#     print(i, ' ->', list(lda_MC_tech.get_document_topics(corpus_clients_map, minimum_probability=0.1))[i])"
   ]
  },
  {
   "cell_type": "code",
   "execution_count": null,
   "metadata": {},
   "outputs": [],
   "source": [
    "#Далее необходимо подбирать количество кластеров для подтягивания стандартных ответов из FAQ\n",
    "#или типовых ответов поддержки\n",
    "#Для этого нужно смотреть перплексию, когерентность моделей,\n",
    "#отображение есть, посмотрим качественные примеры полученной кластеризации\n",
    "#https://msk.tele2.ru/help/questions"
   ]
  },
  {
   "cell_type": "code",
   "execution_count": 8,
   "metadata": {},
   "outputs": [],
   "source": [
    "#data_clienttexts.head()"
   ]
  },
  {
   "cell_type": "code",
   "execution_count": 10,
   "metadata": {},
   "outputs": [],
   "source": [
    "# faq_first = 'Где можно пополнить счет без комиссии?'\n",
    "# corpus_faq_first_tech = [dictionary_tech.doc2bow(faq_first.split(' '))]\n",
    "# corpus_faq_first_clients = [dictionary_clients.doc2bow(faq_first.split(' '))]\n",
    "# # print(lda_MC_clients[corpus_faq_first_clients[0]])\n",
    "# # print(lda_MC_tech[corpus_faq_first_tech[0]])\n",
    "# #(18, 0.52)"
   ]
  },
  {
   "cell_type": "code",
   "execution_count": 11,
   "metadata": {},
   "outputs": [],
   "source": [
    "#lda_MC_clients.print_topic(18)"
   ]
  },
  {
   "cell_type": "code",
   "execution_count": 12,
   "metadata": {},
   "outputs": [],
   "source": [
    "#lda_MC_tech.print_topic(8)"
   ]
  },
  {
   "cell_type": "code",
   "execution_count": null,
   "metadata": {},
   "outputs": [],
   "source": [
    "#1----3 18\n",
    "#Добрый день! как происходит перенос номера?\n",
    "\n",
    "#Как происходит перенос номера\n",
    "#Когда и как поменяется оператор? \n",
    "#Абонент может выбрать любую дату переноса номера не ранее 8-го дня и не позднее 6-ти месяцев со дня заключения договора об оказании услуг связи с Tele2. Если дата не была определена, перенос осуществляется на 8-й день со дня заключения договора с Tele2. \n",
    "\n",
    "#data_techtexts[data_techtexts.cluster_tech == 18].full_text[177]\n",
    "#data_techtexts[data_techtexts.cluster_tech == 18].full_text[1027]\n",
    "\n",
    "#2--- 9 18\n",
    "#Отклонение заявки на перенос номера\n",
    "#Отклонена заявка на перенос номера в Tele2\n",
    "#Что делать, если перенос номера был отклонен? \n",
    "#Причина отказа в перенесении номера сообщается абоненту в SMS. При отказе по причине несовпадения данных абонента необходимо обратиться к оператору, от которого переносится номер, с письменным заявлением об изменении паспортных данных, если ранее абонент не уведомлял об этом оператора. Баланс переносимого номера должен быть положительным (без задолженности), номер не должен быть заблокирован. После устранения указанных в SMS причин отказа в перенесении номера следует повторно обратиться с заявлением в Tele2.\n",
    "\n",
    "#3--- 18 8\n",
    "#Где можно пополнить счет без комиссии?\n",
    "#Без комиссии счет можно пополнить:\n",
    "#с помощью банковской карты в разделе «Пополнения и переводы» без дополнительной регистрации;\n",
    "#с помощью банковской карты в личном кабинете и приложении «Мой Tele2»;\n",
    "#с помощью услуги Автоплатеж;\n",
    "#в салонах связи Tele2;\n",
    "#в салонах связи «Связной» и «Евросеть»;\n",
    "\n",
    "#4---- "
   ]
  },
  {
   "cell_type": "code",
   "execution_count": 280,
   "metadata": {},
   "outputs": [],
   "source": [
    "#Не рискуем выкладывать код на сервер ВК :)\n",
    "#Приводим примеры удачной кластеризации и код сервера на Flask далее"
   ]
  },
  {
   "cell_type": "code",
   "execution_count": 13,
   "metadata": {},
   "outputs": [],
   "source": [
    "#Удачное соответствие\n",
    "faq_first = 'Где можно пополнить счет без комиссии?'\n",
    "corpus_faq_first_tech = [dictionary_tech.doc2bow(faq_first.split(' '))]\n",
    "corpus_faq_first_clients = [dictionary_clients.doc2bow(faq_first.split(' '))]\n",
    "print(lda_MC_clients[corpus_faq_first_clients[0]])\n",
    "print(lda_MC_tech[corpus_faq_first_tech[0]])\n",
    "#(18, 0.52)\n",
    "answer = 'Где можно пополнить счет без комиссии? \\\n",
    " Без комиссии счет можно пополнить: \\\n",
    "с помощью банковской карты в разделе «Пополнения и переводы» без дополнительной регистрации;\\\n",
    "с помощью банковской карты в личном кабинете и приложении «Мой Tele2»;\\\n",
    "с помощью услуги Автоплатеж;\\\n",
    "в салонах связи Tele2;\\\n",
    "в салонах связи «Связной» и «Евросеть»;'"
   ]
  },
  {
   "cell_type": "code",
   "execution_count": 14,
   "metadata": {},
   "outputs": [],
   "source": [
    "#Удачное соответствие\n",
    "faq_first = 'Добрый день! как происходит перенос номера?'\n",
    "corpus_faq_first_tech = [dictionary_tech.doc2bow(faq_first.split(' '))]\n",
    "corpus_faq_first_clients = [dictionary_clients.doc2bow(faq_first.split(' '))]\n",
    "print(lda_MC_clients[corpus_faq_first_clients[0]])\n",
    "print(lda_MC_tech[corpus_faq_first_tech[0]])\n",
    "\n",
    "answer = 'Абонент может выбрать любую дату переноса номера не ранее\\\n",
    "8-го дня и не позднее 6-ти месяцев со дня заключения договора об оказании услуг связи\\\n",
    "с Tele2. Если дата не была определена, перенос осуществляется на 8-й день со дня'\\\n",
    "\n",
    "#Стандартные faq могут не решать вопрос\n",
    "#Для этого мы делали соответствие!\n",
    "#Выцепляем топ по вероятности из текстов ответов с подходящим кластером\n",
    "#Пример\n",
    "#Пренебрегли тут чисткой для примера\n",
    "print(data_techtexts[data_techtexts.cluster_tech == 18].full_text[177])\n",
    "print(data_techtexts[data_techtexts.cluster_tech == 18].full_text[1027])"
   ]
  },
  {
   "cell_type": "code",
   "execution_count": 15,
   "metadata": {},
   "outputs": [],
   "source": [
    "#Удачное соответствие\n",
    "faq_first = 'Добрый день! как происходит перенос номера?'\n",
    "corpus_faq_first_tech = [dictionary_tech.doc2bow(faq_first.split(' '))]\n",
    "corpus_faq_first_clients = [dictionary_clients.doc2bow(faq_first.split(' '))]\n",
    "print(lda_MC_clients[corpus_faq_first_clients[0]])\n",
    "print(lda_MC_tech[corpus_faq_first_tech[0]])\n",
    "\n",
    "answer = 'Где можно пополнить счет без комиссии? \\\n",
    " Без комиссии счет можно пополнить: \\\n",
    "с помощью банковской карты в разделе «Пополнения и переводы» без дополнительной регистрации;\\\n",
    "с помощью банковской карты в личном кабинете и приложении «Мой Tele2»;\\\n",
    "с помощью услуги Автоплатеж;\\\n",
    "в салонах связи Tele2;\\\n",
    "в салонах связи «Связной» и «Евросеть»;'"
   ]
  },
  {
   "cell_type": "code",
   "execution_count": null,
   "metadata": {},
   "outputs": [],
   "source": [
    "#Дальнейшее:\n",
    "#Главное дальше: анализ плохих консультантов поддержки и выявление спамящих клиентов, которых можно забанить\n",
    "#Смотрим по вероятности из базы на сервере, например, через, pypyodbc, если запросов\n",
    "#за неделю больше 10 по одному кластеру, то считаем спамером\n",
    "#Если меньше 10, но больше 5 и при этом совпали токены сотрудника, решающего вопрос,\n",
    "#стоит задуматься о компетентности сотрудника\n",
    "\n",
    "#Выявление спамящего клиента:\n",
    "#Поступает запрос, проводим двойную кластеризацию, смотрим историю клиента по данному типу проблемы, если ее много,\n",
    "#смотреть на возможность спама/плохого консультанта"
   ]
  },
  {
   "cell_type": "code",
   "execution_count": 16,
   "metadata": {},
   "outputs": [],
   "source": [
    "#data_clienttexts.client_id.value_counts()"
   ]
  },
  {
   "cell_type": "code",
   "execution_count": 17,
   "metadata": {},
   "outputs": [],
   "source": [
    "#data_clienttexts[data_clienttexts.client_id == 475105].reset_index()[19:22]"
   ]
  },
  {
   "cell_type": "code",
   "execution_count": null,
   "metadata": {},
   "outputs": [],
   "source": [
    "#Пример возможного выброса спама"
   ]
  },
  {
   "cell_type": "code",
   "execution_count": null,
   "metadata": {},
   "outputs": [],
   "source": [
    "#Что не успели\n",
    "#Не использовать мешок слов gensim, смотреть в сторону word2vec, карт кохонена, bigartm, hdp модели"
   ]
  }
 ],
 "metadata": {
  "kernelspec": {
   "display_name": "Python 3",
   "language": "python",
   "name": "python3"
  },
  "language_info": {
   "codemirror_mode": {
    "name": "ipython",
    "version": 3
   },
   "file_extension": ".py",
   "mimetype": "text/x-python",
   "name": "python",
   "nbconvert_exporter": "python",
   "pygments_lexer": "ipython3",
   "version": "3.6.5"
  }
 },
 "nbformat": 4,
 "nbformat_minor": 2
}

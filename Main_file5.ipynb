{
 "cells": [
  {
   "cell_type": "code",
   "execution_count": 39,
   "metadata": {},
   "outputs": [
    {
     "data": {
      "text/plain": [
       "True"
      ]
     },
     "execution_count": 39,
     "metadata": {},
     "output_type": "execute_result"
    }
   ],
   "source": [
    "#Импорт файлов и библиотек\n",
    "import pandas as pd\n",
    "import numpy as np\n",
    "import re\n",
    "\n",
    "#Лемматизация\n",
    "from pymystem3 import Mystem\n",
    "m = Mystem()\n",
    "\n",
    "#исправление опечаток\n",
    "import jamspell\n",
    "corrector = jamspell.TSpellCorrector()\n",
    "corrector.LoadLangModel('/Users/alexanpolyakov/Downloads/ru_small.bin')"
   ]
  },
  {
   "cell_type": "code",
   "execution_count": 78,
   "metadata": {},
   "outputs": [],
   "source": [
    "#Скачиваем все разбитые данные на тексты пользователей и поддержки\n",
    "data1_clienttexts = pd.read_pickle('data1_clienttexts.pickle')\n",
    "data1_techtexts = pd.read_pickle('data1_techtexts.pickle')\n",
    "\n",
    "data2_clienttexts = pd.read_pickle('data2_clienttexts.pickle')\n",
    "data2_techtexts = pd.read_pickle('data2_techtexts.pickle')\n",
    "\n",
    "data3_clienttexts = pd.read_pickle('data3_clienttexts.pickle')\n",
    "data3_techtexts = pd.read_pickle('data3_techtexts.pickle')"
   ]
  },
  {
   "cell_type": "code",
   "execution_count": 79,
   "metadata": {},
   "outputs": [],
   "source": [
    "data1_clienttexts = data1_clienttexts.reset_index(drop=True)\n",
    "data1_techtexts = data1_techtexts.reset_index(drop=True)\n",
    "data2_clienttexts = data2_clienttexts.reset_index(drop=True)\n",
    "data2_techtexts = data2_techtexts.reset_index(drop=True)\n",
    "data3_clienttexts = data3_clienttexts.reset_index(drop=True)\n",
    "data3_techtexts = data3_techtexts.reset_index(drop=True)"
   ]
  },
  {
   "cell_type": "code",
   "execution_count": 80,
   "metadata": {},
   "outputs": [],
   "source": [
    "#Делаем идентичные имена столбцов\n",
    "data1_clienttexts = data1_clienttexts.rename(columns={\"ID\": \"id\", 'Автор': 'client_id', 'Категория.автора': 'client_category',\n",
    "                         'Контент': 'text', 'Хост': 'channel_type', 'Подписчики': 'subscribers', 'Тема': 'theme',\n",
    "                         'Локация': 'location', 'Тональность': 'tonality'})\n",
    "\n",
    "data1_techtexts = data1_techtexts.rename(columns={'ID': 'id', 'Автор': 'client_id', 'Категория.автора': 'client_category',\n",
    "                         'Контент': 'text', 'Хост': 'channel_type', 'Подписчики': 'subscribers', 'Тема': 'theme',\n",
    "                         'Локация': 'location', 'Тональность': 'tonality'})\n",
    "\n",
    "data2_clienttexts = data2_clienttexts.rename(columns={\"appeal_id\": \"id\", 'channel_name': 'location'})\n",
    "data2_techtexts = data2_techtexts.rename(columns={\"appeal_id\": \"id\", 'channel_name': 'location'})\n",
    "\n",
    "data3_clienttexts = data3_clienttexts.rename(columns={\"SENDER_ID\": \"client_id\", \"CONTENT\": 'text', 'ACCEPTOR': 'location'})\n",
    "data3_techtexts = data3_techtexts.rename(columns={\"SENDER_ID\": \"client_id\", \"ANSWERTEXT\": 'text', 'ACCEPTOR': 'location'})"
   ]
  },
  {
   "cell_type": "code",
   "execution_count": 81,
   "metadata": {},
   "outputs": [],
   "source": [
    "#Приводим все данные к одинаковому числу столбцов, отсутствующие столбцы заполняем пустыми значениями\n",
    "data2_clienttexts = data2_clienttexts.drop('channel_id', axis=1)\n",
    "data2_techtexts = data2_techtexts.drop('channel_id', axis=1)\n",
    "data2_clienttexts = data2_clienttexts.assign(client_category = ['nan' for row in range(len(data2_clienttexts))])\n",
    "data2_techtexts = data2_techtexts.assign(client_category = ['nan' for row in range(len(data2_techtexts))])\n",
    "\n",
    "data2_clienttexts = data2_clienttexts.assign(theme = ['Прочее' for row in range(len(data2_clienttexts))])\n",
    "data2_techtexts = data2_techtexts.assign(theme = ['Прочее' for row in range(len(data2_techtexts))])\n",
    "\n",
    "data2_clienttexts = data2_clienttexts.assign(tonality = ['nan' for row in range(len(data2_clienttexts))])\n",
    "data2_techtexts = data2_techtexts.assign(tonality = ['nan' for row in range(len(data2_techtexts))])\n",
    "\n",
    "data2_clienttexts = data2_clienttexts.assign(subscribers = [-1 for row in range(len(data2_clienttexts))])\n",
    "data2_techtexts = data2_techtexts.assign(subscribers = [-1 for row in range(len(data2_techtexts))])\n",
    "\n",
    "data3_clienttexts = data3_clienttexts.assign(client_category = ['nan' for row in range(len(data3_clienttexts))])\n",
    "data3_techtexts = data3_techtexts.assign(client_category = ['nan' for row in range(len(data3_techtexts))])\n",
    "data3_clienttexts = data3_clienttexts.assign(theme = ['Прочее' for row in range(len(data3_clienttexts))])\n",
    "data3_techtexts = data3_techtexts.assign(theme = ['Прочее' for row in range(len(data3_techtexts))])\n",
    "\n",
    "data3_clienttexts = data3_clienttexts.assign(tonality = ['nan' for row in range(len(data3_clienttexts))])\n",
    "data3_techtexts = data3_techtexts.assign(tonality = ['nan' for row in range(len(data3_techtexts))])\n",
    "\n",
    "data3_clienttexts = data3_clienttexts.assign(subscribers = [-1 for row in range(len(data3_clienttexts))])\n",
    "data3_techtexts = data3_techtexts.assign(subscribers = [-1 for row in range(len(data3_techtexts))])\n",
    "\n",
    "data3_clienttexts = data3_clienttexts.assign(channel_type = ['Почта' for row in range(len(data3_clienttexts))])\n",
    "data3_techtexts = data3_techtexts.assign(channel_type = ['Почта' for row in range(len(data3_techtexts))])"
   ]
  },
  {
   "cell_type": "code",
   "execution_count": 90,
   "metadata": {},
   "outputs": [],
   "source": [
    "#Делаем идентичный порядок столбцов\n",
    "data2_clienttexts = data2_clienttexts[['id', 'client_id', 'client_category', 'text', 'channel_type', 'subscribers',\n",
    "       'theme', 'location', 'tonality']]\n",
    "data2_texttexts = data2_clienttexts[['id','client_id', 'client_category', 'text', 'channel_type', 'subscribers',\n",
    "       'theme', 'location', 'tonality']]\n",
    "\n",
    "data3_clienttexts = data3_clienttexts[['client_id', 'client_category', 'text', 'channel_type', 'subscribers',\n",
    "       'theme', 'location', 'tonality']]\n",
    "data3_texttexts = data3_clienttexts[['client_id', 'client_category', 'text', 'channel_type', 'subscribers',\n",
    "       'theme', 'location', 'tonality']]"
   ]
  },
  {
   "cell_type": "code",
   "execution_count": 91,
   "metadata": {},
   "outputs": [],
   "source": [
    "#Создаем полный датасет пользовательских обращений\n",
    "data_clienttexts = data1_clienttexts\n",
    "data_clienttexts = data_clienttexts.append(data2_clienttexts)\n",
    "data_clienttexts = data_clienttexts.append(data3_clienttexts)"
   ]
  },
  {
   "cell_type": "code",
   "execution_count": 92,
   "metadata": {},
   "outputs": [],
   "source": [
    "#Создаем полный датасет технических ответов\n",
    "data_techtexts = data1_techtexts\n",
    "data_techtexts = data_techtexts.append(data2_techtexts)\n",
    "data_techtexts = data_techtexts.append(data3_techtexts)"
   ]
  },
  {
   "cell_type": "code",
   "execution_count": 93,
   "metadata": {},
   "outputs": [],
   "source": [
    "data_clienttexts = data_clienttexts.reset_index(drop=True)\n",
    "data_techtexts = data_techtexts.reset_index(drop=True)"
   ]
  },
  {
   "cell_type": "code",
   "execution_count": 98,
   "metadata": {},
   "outputs": [],
   "source": [
    "data_clienttexts.to_pickle('data_clienttexts.pickle')\n",
    "data_techtexts.to_pickle('data_textstexts.pickle')"
   ]
  },
  {
   "cell_type": "code",
   "execution_count": 1,
   "metadata": {},
   "outputs": [],
   "source": [
    "#data1_clienttexts"
   ]
  },
  {
   "cell_type": "code",
   "execution_count": null,
   "metadata": {},
   "outputs": [],
   "source": [
    "#..."
   ]
  }
 ],
 "metadata": {
  "kernelspec": {
   "display_name": "Python 3",
   "language": "python",
   "name": "python3"
  },
  "language_info": {
   "codemirror_mode": {
    "name": "ipython",
    "version": 3
   },
   "file_extension": ".py",
   "mimetype": "text/x-python",
   "name": "python",
   "nbconvert_exporter": "python",
   "pygments_lexer": "ipython3",
   "version": "3.6.5"
  }
 },
 "nbformat": 4,
 "nbformat_minor": 2
}
